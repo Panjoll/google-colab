{
  "cells": [
    {
      "cell_type": "markdown",
      "metadata": {
        "id": "view-in-github",
        "colab_type": "text"
      },
      "source": [
        "<a href=\"https://colab.research.google.com/github/Panjoll/google-colab/blob/main/Mengoptimalkan_Langganan_Colab_Anda.ipynb\" target=\"_parent\"><img src=\"https://colab.research.google.com/assets/colab-badge.svg\" alt=\"Open In Colab\"/></a>"
      ]
    },
    {
      "cell_type": "markdown",
      "source": [
        "# mining SSH dengan google colab \n",
        "\n",
        "\n",
        "\n",
        "**script * *BY Panca fetriyanto-ninetynine Chenel****\n",
        "\n",
        "******youtube-ninrtynine***\n",
        "\n",
        "****telegram-panca fe***\n",
        "\n",
        "\n"
      ],
      "metadata": {
        "id": "q39dHqZ5po34"
      }
    },
    {
      "cell_type": "code",
      "source": [
        "#@title **conect GPU** { vertical-output: true, display-mode: \"form\" }\n",
        "\n",
        "!nvidia-smi -L\n",
        "!/usr/local/cuda/bin/nvcc --version"
      ],
      "metadata": {
        "colab": {
          "base_uri": "https://localhost:8080/"
        },
        "id": "jC6_u-WgrAd5",
        "outputId": "4590d34f-b3df-4d94-936b-b5f372123cb8"
      },
      "execution_count": 1,
      "outputs": [
        {
          "output_type": "stream",
          "name": "stdout",
          "text": [
            "GPU 0: Tesla T4 (UUID: GPU-6318be9b-5be9-9bb8-8e29-3159ea281828)\n",
            "nvcc: NVIDIA (R) Cuda compiler driver\n",
            "Copyright (c) 2005-2020 NVIDIA Corporation\n",
            "Built on Mon_Oct_12_20:09:46_PDT_2020\n",
            "Cuda compilation tools, release 11.1, V11.1.105\n",
            "Build cuda_11.1.TC455_06.29190527_0\n"
          ]
        }
      ]
    },
    {
      "cell_type": "code",
      "source": [
        "#@title **INSTALL YOUR SSH WITH ROOT ACCESS** { vertical-output: true, display-mode: \"form\" }\n",
        "\n",
        "#@markdown Create account and copy authtoken from https://dashboard.ngrok.com/get-started/your-authtoken\n",
        "\n",
        "#Download ngrok\n",
        "! wget -q -c -nc https://bin.equinox.io/c/4VmDzA7iaHb/ngrok-stable-linux-amd64.zip\n",
        "! unzip -qq -n ngrok-stable-linux-amd64.zip\n",
        "# Install colab_ssh\n",
        "!pip install colab_ssh --upgrade\n",
        "\n",
        "from colab_ssh import launch_ssh\n",
        "launch_ssh('28lPun8OSGwdqaza302PAWHxLjW_tDchyTofSs7tU5K2iiRz', '929239')\n",
        "\n",
        "#Print DON'T FORGOT SUBSCRIBE BUTTON\n",
        "print(\"❤❤❤❤❤ By PANCA FE❤❤❤❤#jangan lupa mampir ke ninetynine chanel\")\n",
        "\n",
        "\n"
      ],
      "metadata": {
        "colab": {
          "base_uri": "https://localhost:8080/"
        },
        "id": "IwVVutQz4KKZ",
        "outputId": "5a71d246-42d4-4384-8b1d-ba8b3243b9a1"
      },
      "execution_count": 2,
      "outputs": [
        {
          "output_type": "stream",
          "name": "stdout",
          "text": [
            "Collecting colab_ssh\n",
            "  Downloading colab_ssh-0.3.27-py3-none-any.whl (26 kB)\n",
            "Installing collected packages: colab-ssh\n",
            "Successfully installed colab-ssh-0.3.27\n",
            "Warning: Due to some issues with ngrok on Google Colab, reported in the issue https://github.com/WassimBenzarti/colab-ssh/issues/45, \n",
            "we highly recommend that update your code by following this documentation https://github.com/WassimBenzarti/colab-ssh#getting-started\n",
            "Successfully running 6.tcp.ngrok.io:19316\n",
            "[Optional] You can also connect with VSCode SSH Remote extension using this configuration:\n",
            "\n",
            "  Host google_colab_ssh\n",
            "    HostName 6.tcp.ngrok.io\n",
            "    User root\n",
            "    Port 19316\n",
            "    \n",
            "❤❤❤❤❤ By PANCA FE❤❤❤❤#jangan lupa mampir ke ninetynine chanel\n"
          ]
        }
      ]
    },
    {
      "cell_type": "code",
      "source": [
        "#@title **Make Alive SSH CONNECTION** { vertical-output: true, display-mode: \"form\" }\n",
        "#@markdown **2-5 hours Runtime**\n",
        "alive = True #@param {type:\"boolean\"}\n",
        "! sleep 432000"
      ],
      "metadata": {
        "id": "wuemCMNq9Jge"
      },
      "execution_count": null,
      "outputs": []
    }
  ],
  "metadata": {
    "colab": {
      "collapsed_sections": [],
      "name": "Mengoptimalkan Langganan Colab Anda",
      "provenance": [],
      "include_colab_link": true
    },
    "kernelspec": {
      "display_name": "Python 3",
      "name": "python3"
    },
    "accelerator": "GPU"
  },
  "nbformat": 4,
  "nbformat_minor": 0
}